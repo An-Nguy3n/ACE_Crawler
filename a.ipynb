{
 "cells": [
  {
   "cell_type": "code",
   "execution_count": null,
   "metadata": {},
   "outputs": [],
   "source": [
    "with open(\"Ace_hrefs.txt\", \"r\") as f:\n",
    "    list_href = f.read().split(\"\\n\")\n",
    "\n",
    "print(len(list_href))"
   ]
  },
  {
   "cell_type": "code",
   "execution_count": null,
   "metadata": {},
   "outputs": [],
   "source": [
    "import Crawl\n",
    "br = Crawl.Browser(250)\n",
    "data = Crawl.get_data(br, list_href[0], 0)\n",
    "data"
   ]
  },
  {
   "cell_type": "code",
   "execution_count": null,
   "metadata": {},
   "outputs": [],
   "source": [
    "data = Crawl.get_data(br, list_href[1], 1)\n",
    "data"
   ]
  },
  {
   "cell_type": "code",
   "execution_count": null,
   "metadata": {},
   "outputs": [],
   "source": [
    "import os\n"
   ]
  },
  {
   "cell_type": "code",
   "execution_count": null,
   "metadata": {},
   "outputs": [],
   "source": [
    "list_data = []\n",
    "import json\n",
    "for i in range(3930):\n",
    "    print(i)\n",
    "    with open(f\"Data\\\\{i}.json\", \"r\", encoding=\"utf-8\") as f:\n",
    "        temp = json.load(f)\n",
    "        list_data.append(temp)"
   ]
  },
  {
   "cell_type": "code",
   "execution_count": null,
   "metadata": {},
   "outputs": [],
   "source": [
    "import pandas as pd\n",
    "data = pd.DataFrame(list_data)\n",
    "# data[['_sku', '_upc', '_name', '_price', 'Brand Name', 'Sub Brand', 'Product Type']]"
   ]
  },
  {
   "cell_type": "code",
   "execution_count": null,
   "metadata": {},
   "outputs": [],
   "source": [
    "import numpy as np\n",
    "list_col = []\n",
    "for col in data.columns:\n",
    "    num = len(np.where(pd.isna(data[col]))[0])\n",
    "    if num <= 3930*0.5:\n",
    "        list_col.append(col)\n",
    "\n",
    "data[list_col]"
   ]
  },
  {
   "cell_type": "code",
   "execution_count": null,
   "metadata": {},
   "outputs": [],
   "source": [
    "final = data[list_col].copy()\n",
    "final"
   ]
  },
  {
   "cell_type": "code",
   "execution_count": null,
   "metadata": {},
   "outputs": [],
   "source": [
    "final[\"Specifications\"] = pd.NA"
   ]
  },
  {
   "cell_type": "code",
   "execution_count": null,
   "metadata": {},
   "outputs": [],
   "source": [
    "for i in range(3930):\n",
    "    print(i)\n",
    "    temp = {}\n",
    "    for col in data.columns:\n",
    "        if col not in list_col:\n",
    "            if not pd.isna(data.loc[i, col]):\n",
    "                temp[col] = data.loc[i, col]\n",
    "    \n",
    "    final.loc[i, \"Specifications\"] = str(temp)"
   ]
  },
  {
   "cell_type": "code",
   "execution_count": null,
   "metadata": {},
   "outputs": [],
   "source": [
    "final.to_csv(\"ACE.csv\", index=False, encoding=\"utf-8\")"
   ]
  },
  {
   "cell_type": "code",
   "execution_count": null,
   "metadata": {},
   "outputs": [],
   "source": [
    "from browser import Browser\n",
    "br = Browser()"
   ]
  },
  {
   "cell_type": "code",
   "execution_count": null,
   "metadata": {},
   "outputs": [],
   "source": [
    "soup = br.get_soup()\n",
    "temp = soup.find_all(\"ul\", {\"class\": \"mz-productlist-list mz-l-tiles\"})\n",
    "temp.__len__()"
   ]
  },
  {
   "cell_type": "code",
   "execution_count": null,
   "metadata": {},
   "outputs": [],
   "source": [
    "list_href = []\n",
    "for div in temp[0].find_all(\"div\", {\"class\": \"mz-productlisting-info\"}):\n",
    "    list_href.append(div.find(\"a\")[\"href\"])"
   ]
  },
  {
   "cell_type": "code",
   "execution_count": null,
   "metadata": {},
   "outputs": [],
   "source": [
    "with open(\"Ace_hrefs.txt\", \"w\") as f:\n",
    "    f.write(\"\\n\".join(list_href))"
   ]
  }
 ],
 "metadata": {
  "kernelspec": {
   "display_name": "Python 3",
   "language": "python",
   "name": "python3"
  },
  "language_info": {
   "codemirror_mode": {
    "name": "ipython",
    "version": 3
   },
   "file_extension": ".py",
   "mimetype": "text/x-python",
   "name": "python",
   "nbconvert_exporter": "python",
   "pygments_lexer": "ipython3",
   "version": "3.10.10"
  }
 },
 "nbformat": 4,
 "nbformat_minor": 2
}
